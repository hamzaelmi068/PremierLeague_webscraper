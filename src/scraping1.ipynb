{
 "cells": [
  {
   "cell_type": "code",
   "execution_count": 30,
   "metadata": {},
   "outputs": [],
   "source": [
    "import requests\n",
    "from bs4 import BeautifulSoup\n",
    "\n",
    "# The URL of the page you want to scrape\n",
    "standings_url = \"https://fbref.com/en/comps/9/Premier-League-Stats\"\n",
    "\n",
    "# Send a GET request to the page\n",
    "data = requests.get(standings_url)\n",
    "\n",
    "# Parse the HTML content of the page with BeautifulSoup\n",
    "soup = BeautifulSoup(data.text, 'html.parser')\n",
    "\n",
    "# Try to find the table with the class 'stats_table'\n",
    "stats_tables = soup.select('table.stats_table')\n",
    "\n",
    "# Check if the list is not empty before accessing its elements\n",
    "if stats_tables:\n",
    "    # Get the first table in the list\n",
    "    standings_table = stats_tables[0]\n",
    "    \n",
    "    # Find all 'a' tags within the table\n",
    "    links = standings_table.find_all('a')\n",
    "    \n",
    "    # Extract the 'href' attribute from each 'a' tag\n",
    "    links = [l.get(\"href\") for l in links]\n",
    "    \n",
    "    # Filter the links to only include those that contain '/squads/'\n",
    "    links = [l for l in links if '/squads/' in l]\n",
    "    \n",
    "    # Prepend 'https://fbref.com' to each link\n",
    "    team_urls = [f\"https://fbref.com{l}\" for l in links]\n",
    "    \n",
    "    # Print the list of team URLs\n",
    "    print(team_urls)\n",
    "else:\n",
    "    print(\"No stats tables found.\")\n"
   ]
  }
 ],
 "metadata": {
  "kernelspec": {
   "display_name": "Python 3",
   "language": "python",
   "name": "python3"
  },
  "language_info": {
   "codemirror_mode": {
    "name": "ipython",
    "version": 3
   },
   "file_extension": ".py",
   "mimetype": "text/x-python",
   "name": "python",
   "nbconvert_exporter": "python",
   "pygments_lexer": "ipython3",
   "version": "3.9.13"
  }
 },
 "nbformat": 4,
 "nbformat_minor": 2
}
